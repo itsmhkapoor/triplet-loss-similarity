{
  "nbformat": 4,
  "nbformat_minor": 0,
  "metadata": {
    "colab": {
      "name": "iml_main.ipynb",
      "provenance": [],
      "collapsed_sections": [
        "wCBwMCtaeY4H",
        "nWddnb3weeLd",
        "tnLcdmwZek6p",
        "5pneUq8AekCk",
        "mB_k0heeewlC"
      ]
    },
    "kernelspec": {
      "name": "python3",
      "display_name": "Python 3"
    },
    "accelerator": "GPU",
    "widgets": {
      "application/vnd.jupyter.widget-state+json": {
        "ec3a7d6ae1d6466a87bd10bdba806426": {
          "model_module": "@jupyter-widgets/controls",
          "model_name": "HBoxModel",
          "state": {
            "_view_name": "HBoxView",
            "_dom_classes": [],
            "_model_name": "HBoxModel",
            "_view_module": "@jupyter-widgets/controls",
            "_model_module_version": "1.5.0",
            "_view_count": null,
            "_view_module_version": "1.5.0",
            "box_style": "",
            "layout": "IPY_MODEL_3c6da2c5f97d476ea4b3e8b567edb2e8",
            "_model_module": "@jupyter-widgets/controls",
            "children": [
              "IPY_MODEL_5dc630920fb34bfeb745cd5ab0371268",
              "IPY_MODEL_73dbbee716d349f99f2b9329aa80c428"
            ]
          }
        },
        "3c6da2c5f97d476ea4b3e8b567edb2e8": {
          "model_module": "@jupyter-widgets/base",
          "model_name": "LayoutModel",
          "state": {
            "_view_name": "LayoutView",
            "grid_template_rows": null,
            "right": null,
            "justify_content": null,
            "_view_module": "@jupyter-widgets/base",
            "overflow": null,
            "_model_module_version": "1.2.0",
            "_view_count": null,
            "flex_flow": null,
            "width": null,
            "min_width": null,
            "border": null,
            "align_items": null,
            "bottom": null,
            "_model_module": "@jupyter-widgets/base",
            "top": null,
            "grid_column": null,
            "overflow_y": null,
            "overflow_x": null,
            "grid_auto_flow": null,
            "grid_area": null,
            "grid_template_columns": null,
            "flex": null,
            "_model_name": "LayoutModel",
            "justify_items": null,
            "grid_row": null,
            "max_height": null,
            "align_content": null,
            "visibility": null,
            "align_self": null,
            "height": null,
            "min_height": null,
            "padding": null,
            "grid_auto_rows": null,
            "grid_gap": null,
            "max_width": null,
            "order": null,
            "_view_module_version": "1.2.0",
            "grid_template_areas": null,
            "object_position": null,
            "object_fit": null,
            "grid_auto_columns": null,
            "margin": null,
            "display": null,
            "left": null
          }
        },
        "5dc630920fb34bfeb745cd5ab0371268": {
          "model_module": "@jupyter-widgets/controls",
          "model_name": "FloatProgressModel",
          "state": {
            "_view_name": "ProgressView",
            "style": "IPY_MODEL_aff4751b983d46a2925190f0ffb84ba5",
            "_dom_classes": [],
            "description": "100%",
            "_model_name": "FloatProgressModel",
            "bar_style": "success",
            "max": 10000,
            "_view_module": "@jupyter-widgets/controls",
            "_model_module_version": "1.5.0",
            "value": 10000,
            "_view_count": null,
            "_view_module_version": "1.5.0",
            "orientation": "horizontal",
            "min": 0,
            "description_tooltip": null,
            "_model_module": "@jupyter-widgets/controls",
            "layout": "IPY_MODEL_f8630c5c338b422a8db6e70ba0977673"
          }
        },
        "73dbbee716d349f99f2b9329aa80c428": {
          "model_module": "@jupyter-widgets/controls",
          "model_name": "HTMLModel",
          "state": {
            "_view_name": "HTMLView",
            "style": "IPY_MODEL_2aa0a611c4dc421a8ce7e9ba9ac2a768",
            "_dom_classes": [],
            "description": "",
            "_model_name": "HTMLModel",
            "placeholder": "​",
            "_view_module": "@jupyter-widgets/controls",
            "_model_module_version": "1.5.0",
            "value": " 10000/10000 [00:35&lt;00:00, 281.21it/s]",
            "_view_count": null,
            "_view_module_version": "1.5.0",
            "description_tooltip": null,
            "_model_module": "@jupyter-widgets/controls",
            "layout": "IPY_MODEL_2275d4f6dc7d49f19c60a5e1afc04b3c"
          }
        },
        "aff4751b983d46a2925190f0ffb84ba5": {
          "model_module": "@jupyter-widgets/controls",
          "model_name": "ProgressStyleModel",
          "state": {
            "_view_name": "StyleView",
            "_model_name": "ProgressStyleModel",
            "description_width": "initial",
            "_view_module": "@jupyter-widgets/base",
            "_model_module_version": "1.5.0",
            "_view_count": null,
            "_view_module_version": "1.2.0",
            "bar_color": null,
            "_model_module": "@jupyter-widgets/controls"
          }
        },
        "f8630c5c338b422a8db6e70ba0977673": {
          "model_module": "@jupyter-widgets/base",
          "model_name": "LayoutModel",
          "state": {
            "_view_name": "LayoutView",
            "grid_template_rows": null,
            "right": null,
            "justify_content": null,
            "_view_module": "@jupyter-widgets/base",
            "overflow": null,
            "_model_module_version": "1.2.0",
            "_view_count": null,
            "flex_flow": null,
            "width": null,
            "min_width": null,
            "border": null,
            "align_items": null,
            "bottom": null,
            "_model_module": "@jupyter-widgets/base",
            "top": null,
            "grid_column": null,
            "overflow_y": null,
            "overflow_x": null,
            "grid_auto_flow": null,
            "grid_area": null,
            "grid_template_columns": null,
            "flex": null,
            "_model_name": "LayoutModel",
            "justify_items": null,
            "grid_row": null,
            "max_height": null,
            "align_content": null,
            "visibility": null,
            "align_self": null,
            "height": null,
            "min_height": null,
            "padding": null,
            "grid_auto_rows": null,
            "grid_gap": null,
            "max_width": null,
            "order": null,
            "_view_module_version": "1.2.0",
            "grid_template_areas": null,
            "object_position": null,
            "object_fit": null,
            "grid_auto_columns": null,
            "margin": null,
            "display": null,
            "left": null
          }
        },
        "2aa0a611c4dc421a8ce7e9ba9ac2a768": {
          "model_module": "@jupyter-widgets/controls",
          "model_name": "DescriptionStyleModel",
          "state": {
            "_view_name": "StyleView",
            "_model_name": "DescriptionStyleModel",
            "description_width": "",
            "_view_module": "@jupyter-widgets/base",
            "_model_module_version": "1.5.0",
            "_view_count": null,
            "_view_module_version": "1.2.0",
            "_model_module": "@jupyter-widgets/controls"
          }
        },
        "2275d4f6dc7d49f19c60a5e1afc04b3c": {
          "model_module": "@jupyter-widgets/base",
          "model_name": "LayoutModel",
          "state": {
            "_view_name": "LayoutView",
            "grid_template_rows": null,
            "right": null,
            "justify_content": null,
            "_view_module": "@jupyter-widgets/base",
            "overflow": null,
            "_model_module_version": "1.2.0",
            "_view_count": null,
            "flex_flow": null,
            "width": null,
            "min_width": null,
            "border": null,
            "align_items": null,
            "bottom": null,
            "_model_module": "@jupyter-widgets/base",
            "top": null,
            "grid_column": null,
            "overflow_y": null,
            "overflow_x": null,
            "grid_auto_flow": null,
            "grid_area": null,
            "grid_template_columns": null,
            "flex": null,
            "_model_name": "LayoutModel",
            "justify_items": null,
            "grid_row": null,
            "max_height": null,
            "align_content": null,
            "visibility": null,
            "align_self": null,
            "height": null,
            "min_height": null,
            "padding": null,
            "grid_auto_rows": null,
            "grid_gap": null,
            "max_width": null,
            "order": null,
            "_view_module_version": "1.2.0",
            "grid_template_areas": null,
            "object_position": null,
            "object_fit": null,
            "grid_auto_columns": null,
            "margin": null,
            "display": null,
            "left": null
          }
        }
      }
    }
  },
  "cells": [
    {
      "cell_type": "markdown",
      "metadata": {
        "id": "wCBwMCtaeY4H",
        "colab_type": "text"
      },
      "source": [
        "### Mount Drive"
      ]
    },
    {
      "cell_type": "code",
      "metadata": {
        "id": "yaaBeZ6m50be",
        "colab_type": "code",
        "colab": {
          "base_uri": "https://localhost:8080/",
          "height": 139
        },
        "outputId": "b2419ab5-b6a9-4fb4-e863-2f51696dcf43"
      },
      "source": [
        "from google.colab import drive\n",
        "drive.mount('/content/drive')\n",
        "\n",
        "%cd /content/drive/My Drive/ColabData/IML/task4/data/"
      ],
      "execution_count": 1,
      "outputs": [
        {
          "output_type": "stream",
          "text": [
            "Go to this URL in a browser: https://accounts.google.com/o/oauth2/auth?client_id=947318989803-6bn6qk8qdgf4n4g3pfee6491hc0brc4i.apps.googleusercontent.com&redirect_uri=urn%3aietf%3awg%3aoauth%3a2.0%3aoob&response_type=code&scope=email%20https%3a%2f%2fwww.googleapis.com%2fauth%2fdocs.test%20https%3a%2f%2fwww.googleapis.com%2fauth%2fdrive%20https%3a%2f%2fwww.googleapis.com%2fauth%2fdrive.photos.readonly%20https%3a%2f%2fwww.googleapis.com%2fauth%2fpeopleapi.readonly\n",
            "\n",
            "Enter your authorization code:\n",
            "··········\n",
            "Mounted at /content/drive\n",
            "/content/drive/My Drive/ColabData/IML/task4/data\n"
          ],
          "name": "stdout"
        }
      ]
    },
    {
      "cell_type": "code",
      "metadata": {
        "id": "j8XMPQ8F55TM",
        "colab_type": "code",
        "colab": {}
      },
      "source": [
        "%%capture\n",
        "!unzip \"/content/drive/My Drive/ColabData/IML/task4/data/food.zip\" -d /"
      ],
      "execution_count": 2,
      "outputs": []
    },
    {
      "cell_type": "markdown",
      "metadata": {
        "id": "nWddnb3weeLd",
        "colab_type": "text"
      },
      "source": [
        "### Import Libraries"
      ]
    },
    {
      "cell_type": "code",
      "metadata": {
        "id": "ARSq-lZ15-XL",
        "colab_type": "code",
        "colab": {}
      },
      "source": [
        "import os\n",
        "import glob\n",
        "import csv \n",
        "\n",
        "import numpy as np \n",
        "import pandas as pd\n",
        "import matplotlib.pyplot as plt\n",
        "from tqdm import tqdm_notebook as tqdm\n",
        "\n",
        "from sklearn.model_selection import train_test_split\n",
        "from skimage import io, transform\n",
        "\n",
        "from numpy.linalg import norm \n",
        "import matplotlib.pyplot as plt \n",
        "\n",
        "import tensorflow as tf\n",
        "\n",
        "from tensorflow.keras.applications.resnet50 import ResNet50\n",
        "from tensorflow.keras.applications.resnet50 import preprocess_input"
      ],
      "execution_count": 3,
      "outputs": []
    },
    {
      "cell_type": "code",
      "metadata": {
        "id": "UgXTKVQw6QIo",
        "colab_type": "code",
        "colab": {
          "base_uri": "https://localhost:8080/",
          "height": 221
        },
        "outputId": "96091987-6f21-43e8-a570-5b3c748f3533"
      },
      "source": [
        "train = pd.read_csv('train_triplets.txt', header=None, sep=' ', dtype='str')\n",
        "test = pd.read_csv('test_triplets.txt', header=None, sep=' ', dtype='str')\n",
        "train.columns = ['img', 'img1', 'img2']\n",
        "test.columns = ['img', 'img1', 'img2']\n",
        "\n",
        "print (train.shape, test.shape)\n",
        "\n",
        "train.head()"
      ],
      "execution_count": 4,
      "outputs": [
        {
          "output_type": "stream",
          "text": [
            "(59515, 3) (59544, 3)\n"
          ],
          "name": "stdout"
        },
        {
          "output_type": "execute_result",
          "data": {
            "text/html": [
              "<div>\n",
              "<style scoped>\n",
              "    .dataframe tbody tr th:only-of-type {\n",
              "        vertical-align: middle;\n",
              "    }\n",
              "\n",
              "    .dataframe tbody tr th {\n",
              "        vertical-align: top;\n",
              "    }\n",
              "\n",
              "    .dataframe thead th {\n",
              "        text-align: right;\n",
              "    }\n",
              "</style>\n",
              "<table border=\"1\" class=\"dataframe\">\n",
              "  <thead>\n",
              "    <tr style=\"text-align: right;\">\n",
              "      <th></th>\n",
              "      <th>img</th>\n",
              "      <th>img1</th>\n",
              "      <th>img2</th>\n",
              "    </tr>\n",
              "  </thead>\n",
              "  <tbody>\n",
              "    <tr>\n",
              "      <th>0</th>\n",
              "      <td>02461</td>\n",
              "      <td>03450</td>\n",
              "      <td>02678</td>\n",
              "    </tr>\n",
              "    <tr>\n",
              "      <th>1</th>\n",
              "      <td>02299</td>\n",
              "      <td>02499</td>\n",
              "      <td>04987</td>\n",
              "    </tr>\n",
              "    <tr>\n",
              "      <th>2</th>\n",
              "      <td>04663</td>\n",
              "      <td>01056</td>\n",
              "      <td>03029</td>\n",
              "    </tr>\n",
              "    <tr>\n",
              "      <th>3</th>\n",
              "      <td>04532</td>\n",
              "      <td>01186</td>\n",
              "      <td>01297</td>\n",
              "    </tr>\n",
              "    <tr>\n",
              "      <th>4</th>\n",
              "      <td>03454</td>\n",
              "      <td>03809</td>\n",
              "      <td>02204</td>\n",
              "    </tr>\n",
              "  </tbody>\n",
              "</table>\n",
              "</div>"
            ],
            "text/plain": [
              "     img   img1   img2\n",
              "0  02461  03450  02678\n",
              "1  02299  02499  04987\n",
              "2  04663  01056  03029\n",
              "3  04532  01186  01297\n",
              "4  03454  03809  02204"
            ]
          },
          "metadata": {
            "tags": []
          },
          "execution_count": 4
        }
      ]
    },
    {
      "cell_type": "markdown",
      "metadata": {
        "id": "tnLcdmwZek6p",
        "colab_type": "text"
      },
      "source": [
        "### Load Images and Train-Validation Split"
      ]
    },
    {
      "cell_type": "code",
      "metadata": {
        "id": "k2dnflcF6Tib",
        "colab_type": "code",
        "colab": {
          "base_uri": "https://localhost:8080/",
          "height": 0,
          "referenced_widgets": [
            "ec3a7d6ae1d6466a87bd10bdba806426",
            "3c6da2c5f97d476ea4b3e8b567edb2e8",
            "5dc630920fb34bfeb745cd5ab0371268",
            "73dbbee716d349f99f2b9329aa80c428",
            "aff4751b983d46a2925190f0ffb84ba5",
            "f8630c5c338b422a8db6e70ba0977673",
            "2aa0a611c4dc421a8ce7e9ba9ac2a768",
            "2275d4f6dc7d49f19c60a5e1afc04b3c"
          ]
        },
        "outputId": "ce34e4d3-cd31-482d-f1d6-a6de9316c7e7"
      },
      "source": [
        "allow_val_overlap = True\n",
        "\n",
        "def get_data(df, ids):\n",
        "    def select(x, y, z):\n",
        "        if x in ids and y in ids and z in ids:\n",
        "            return True\n",
        "        return False\n",
        "    dat = df.copy()\n",
        "    dat['Select'] = dat[['img', 'img1', 'img2']].apply(lambda x: select(x['img'], x['img1'], x['img2']), axis=1)\n",
        "    return df[dat['Select']==True]\n",
        "    \n",
        "if allow_val_overlap:\n",
        "    x_train, x_val = train_test_split(train, shuffle=True, random_state=2019, test_size=0.1)\n",
        "else:\n",
        "    temp = np.unique(train[['img', 'img1', 'img2']].values)\n",
        "    np.random.seed(643)\n",
        "    ids = np.random.randint(0, len(temp), size=1500)\n",
        "    tids = temp[~np.isin(np.arange(len(temp)), ids)]\n",
        "    vids = temp[ids]\n",
        "\n",
        "    trn = get_data(train, tids)\n",
        "    val = get_data(train, vids)\n",
        "    x_train = trn\n",
        "    x_val = val\n",
        "\n",
        "img_dir = '/food/'\n",
        "imgs = {}\n",
        "for file in tqdm(glob.glob(img_dir+'*.jpg')):\n",
        "    img = tf.keras.preprocessing.image.load_img(file, target_size=(224, 224))\n",
        "    img = tf.keras.preprocessing.image.img_to_array(img) \n",
        "    img = np.expand_dims(img, axis=0)\n",
        "    img = preprocess_input(img) \n",
        "    imgs[os.path.basename(file)[:-4]] = np.squeeze(img)"
      ],
      "execution_count": 5,
      "outputs": [
        {
          "output_type": "stream",
          "text": [
            "/usr/local/lib/python3.6/dist-packages/ipykernel_launcher.py:28: TqdmDeprecationWarning: This function will be removed in tqdm==5.0.0\n",
            "Please use `tqdm.notebook.tqdm` instead of `tqdm.tqdm_notebook`\n"
          ],
          "name": "stderr"
        },
        {
          "output_type": "display_data",
          "data": {
            "application/vnd.jupyter.widget-view+json": {
              "model_id": "ec3a7d6ae1d6466a87bd10bdba806426",
              "version_minor": 0,
              "version_major": 2
            },
            "text/plain": [
              "HBox(children=(FloatProgress(value=0.0, max=10000.0), HTML(value='')))"
            ]
          },
          "metadata": {
            "tags": []
          }
        },
        {
          "output_type": "stream",
          "text": [
            "\n"
          ],
          "name": "stdout"
        }
      ]
    },
    {
      "cell_type": "code",
      "metadata": {
        "id": "J9c6qDfT7GUG",
        "colab_type": "code",
        "colab": {}
      },
      "source": [
        "class DataGenerator(tf.keras.utils.Sequence):\n",
        "    def __init__(self, list_IDs, batch_size=32, inp_dim=(224, 224, 3), n_classes=2, shuffle=True):\n",
        "        self.inp_dim = inp_dim\n",
        "        self.batch_size = batch_size\n",
        "        self.list_IDs = list_IDs\n",
        "        self.n_classes = n_classes\n",
        "        \n",
        "        self.shuffle = shuffle\n",
        "        self.on_epoch_end()\n",
        "        \n",
        "    def __len__(self):\n",
        "        return int(np.ceil(len(self.list_IDs) / self.batch_size))\n",
        "\n",
        "    def __getitem__(self, index):\n",
        "        indexes = self.indexes[index*self.batch_size:(index+1)*self.batch_size]\n",
        "        list_IDs_temp = [self.list_IDs[k] for k in indexes]\n",
        "        X1, X2, X3, y = self.__data_generation(list_IDs_temp)\n",
        "        return [X1, X2, X3], y\n",
        "\n",
        "    def on_epoch_end(self):\n",
        "        self.indexes = np.arange(len(self.list_IDs))\n",
        "        if self.shuffle == True:\n",
        "            np.random.shuffle(self.indexes)\n",
        "\n",
        "    def __data_generation(self, list_IDs_temp):\n",
        "        X1 = []\n",
        "        X2 = []\n",
        "        X3 = []\n",
        "        y = np.empty((self.batch_size), dtype=int)\n",
        "        for i, ID in enumerate(list_IDs_temp):\n",
        "            record = ID \n",
        "            X1.append(imgs[record[0]])\n",
        "            X2.append(imgs[record[1]])\n",
        "            X3.append(imgs[record[2]])\n",
        "            y[i] = 1\n",
        "        return np.array(X1), np.array(X2), np.array(X3), y\n",
        "\n",
        "training_generator = DataGenerator(x_train.values, batch_size=64, n_classes=2, shuffle=True)\n",
        "validation_generator = DataGenerator(x_val.values, batch_size=64, n_classes=2, shuffle=True)\n",
        "testing_generator = DataGenerator(test.values, batch_size=64, n_classes=2, shuffle=False)"
      ],
      "execution_count": 6,
      "outputs": []
    },
    {
      "cell_type": "markdown",
      "metadata": {
        "id": "5pneUq8AekCk",
        "colab_type": "text"
      },
      "source": [
        "### Losses"
      ]
    },
    {
      "cell_type": "code",
      "metadata": {
        "id": "WvxA0PfeQyBP",
        "colab_type": "code",
        "colab": {}
      },
      "source": [
        "loss_p = 2 # 1, 2 or cosine\n",
        "metric_p = 2 # 1, 2 or cosine\n",
        "\n",
        "def triplet_loss(y_true, y_pred, alpha=1, p=loss_p):\n",
        "    total_length = y_pred.shape.as_list()[-1]\n",
        "    anc = y_pred[:, 0:int(total_length*1/3)]\n",
        "    pos = y_pred[:, int(total_length*1/3):int(total_length*2/3)]\n",
        "    neg = y_pred[:, int(total_length*2/3):int(total_length*3/3)]\n",
        "    if p == 1:\n",
        "        pos_dist = tf.keras.backend.mean(tf.keras.backend.abs(anc - pos))\n",
        "        neg_dist = tf.keras.backend.mean(tf.keras.backend.abs(anc - neg))\n",
        "        basic_loss = pos_dist - neg_dist + alpha\n",
        "        loss = tf.keras.backend.maximum(basic_loss, 0.0)\n",
        "        return loss\n",
        "    elif p == 'cosine':\n",
        "        distance1 = tf.keras.losses.cosine_similarity(anc, pos)\n",
        "        distance2 = tf.keras.losses.cosine_similarity(anc, neg)\n",
        "        loss = tf.keras.backend.maximum(distance1 - distance2 + alpha, 0.0)\n",
        "        return loss\n",
        "    else:\n",
        "        assert p == 2, 'p can be 1, 2 or cosine'\n",
        "        pos_dist = tf.keras.backend.mean(tf.keras.backend.square(anc - pos))\n",
        "        neg_dist = tf.keras.backend.mean(tf.keras.backend.square(anc- neg))\n",
        "        basic_loss = pos_dist - neg_dist + alpha\n",
        "        loss = tf.keras.backend.maximum(basic_loss, 0.0)\n",
        "        return loss\n",
        "\n",
        "def accuracy(y_true, y_pred, p=metric_p):\n",
        "    total_length = y_pred.shape.as_list()[-1]\n",
        "    anchor = y_pred[:, 0:int(total_length*1/3)]\n",
        "    positive = y_pred[:, int(total_length*1/3):int(total_length*2/3)]\n",
        "    negative = y_pred[:, int(total_length*2/3):int(total_length*3/3)]\n",
        "    if p == 1 or p == 2:\n",
        "        pos_dist = tf.linalg.norm((anchor - positive), ord=p, axis=1) \n",
        "        neg_dist = tf.linalg.norm((anchor - negative), ord=p, axis=1)\n",
        "    else:\n",
        "        normalize_a = tf.math.l2_normalize(anchor, axis=1)\n",
        "        normalize_b = tf.math.l2_normalize(positive, axis=1)        \n",
        "        normalize_c = tf.math.l2_normalize(negative, axis=1)        \n",
        "        pos_dist = -tf.matmul(normalize_a, normalize_b, transpose_b=True)\n",
        "        neg_dist = -tf.matmul(normalize_a, normalize_c, transpose_b=True)\n",
        "    labels = tf.cast(pos_dist < neg_dist, tf.float32)\n",
        "    acc = tf.keras.metrics.binary_accuracy(y_true, labels)\n",
        "    return acc\n",
        "\n",
        "def seed(seed=643):\n",
        "    np.random.seed(seed)\n",
        "    tf.random.set_seed(seed)"
      ],
      "execution_count": 7,
      "outputs": []
    },
    {
      "cell_type": "markdown",
      "metadata": {
        "id": "o3TTm-JImBoq",
        "colab_type": "text"
      },
      "source": [
        "### Train Final Layer"
      ]
    },
    {
      "cell_type": "code",
      "metadata": {
        "id": "WMsUB0Qk6ZNr",
        "colab_type": "code",
        "colab": {
          "base_uri": "https://localhost:8080/",
          "height": 425
        },
        "outputId": "0296ce46-3740-4ced-b319-a7eb2116467d"
      },
      "source": [
        "encoding_size = 20\n",
        "input_dim = 2048\n",
        "\n",
        "opt = tf.keras.optimizers.Adam(lr=0.00005, beta_1=0.9, beta_2=0.999)\n",
        "\n",
        "seed()\n",
        "\n",
        "class L2Normalize(tf.keras.layers.Layer):\n",
        "    def __init__(self, axis=1):\n",
        "        super(L2Normalize, self).__init__()\n",
        "        self.axis = axis\n",
        "    def call(self, inputs):\n",
        "        return tf.keras.backend.l2_normalize(inputs, axis=self.axis)\n",
        "\n",
        "base_model = ResNet50(weights='imagenet')\n",
        "last_layer = base_model.get_layer('avg_pool')\n",
        "x = last_layer.output\n",
        "x = tf.keras.layers.Dropout(0.2)(x)\n",
        "x = tf.keras.layers.Dense(input_dim//2, activation='relu')(x)\n",
        "x = tf.keras.layers.Dropout(0.25)(x)\n",
        "out = tf.keras.layers.Dense(encoding_size)(x)\n",
        "out = L2Normalize(axis=1)(out)\n",
        "\n",
        "for layer in base_model.layers:\n",
        "    layer.trainable = False\n",
        "Net = tf.keras.Model(base_model.input, out)    \n",
        "\n",
        "anchor_input = tf.keras.layers.Input((224, 224, 3), name='anchor_input')\n",
        "positive_input = tf.keras.layers.Input((224, 224, 3), name='positive_input')\n",
        "negative_input = tf.keras.layers.Input((224, 224, 3), name='negative_input')\n",
        "encoded_anchor = Net(anchor_input)\n",
        "encoded_positive = Net(positive_input)\n",
        "encoded_negative = Net(negative_input)\n",
        "merged_vector = tf.keras.layers.concatenate([encoded_anchor, encoded_positive, encoded_negative], axis=-1, name='merged_layer')\n",
        "\n",
        "model = tf.keras.Model(inputs=[anchor_input, positive_input, negative_input], outputs=merged_vector)\n",
        "model.compile(loss=triplet_loss, optimizer=opt, metrics=[accuracy])\n",
        "model.summary()"
      ],
      "execution_count": 8,
      "outputs": [
        {
          "output_type": "stream",
          "text": [
            "Downloading data from https://storage.googleapis.com/tensorflow/keras-applications/resnet/resnet50_weights_tf_dim_ordering_tf_kernels.h5\n",
            "102973440/102967424 [==============================] - 4s 0us/step\n",
            "Model: \"model_1\"\n",
            "__________________________________________________________________________________________________\n",
            "Layer (type)                    Output Shape         Param #     Connected to                     \n",
            "==================================================================================================\n",
            "anchor_input (InputLayer)       [(None, 224, 224, 3) 0                                            \n",
            "__________________________________________________________________________________________________\n",
            "positive_input (InputLayer)     [(None, 224, 224, 3) 0                                            \n",
            "__________________________________________________________________________________________________\n",
            "negative_input (InputLayer)     [(None, 224, 224, 3) 0                                            \n",
            "__________________________________________________________________________________________________\n",
            "model (Model)                   (None, 20)           25706388    anchor_input[0][0]               \n",
            "                                                                 positive_input[0][0]             \n",
            "                                                                 negative_input[0][0]             \n",
            "__________________________________________________________________________________________________\n",
            "merged_layer (Concatenate)      (None, 60)           0           model[1][0]                      \n",
            "                                                                 model[2][0]                      \n",
            "                                                                 model[3][0]                      \n",
            "==================================================================================================\n",
            "Total params: 25,706,388\n",
            "Trainable params: 2,118,676\n",
            "Non-trainable params: 23,587,712\n",
            "__________________________________________________________________________________________________\n"
          ],
          "name": "stdout"
        }
      ]
    },
    {
      "cell_type": "code",
      "metadata": {
        "id": "zs-Qal3t-EZ3",
        "colab_type": "code",
        "colab": {
          "base_uri": "https://localhost:8080/",
          "height": 85
        },
        "outputId": "cbbbf39f-88bb-4781-ac92-8f451c838c38"
      },
      "source": [
        "history = model.fit(training_generator, validation_data=validation_generator, batch_size=64, epochs=7)"
      ],
      "execution_count": null,
      "outputs": [
        {
          "output_type": "stream",
          "text": [
            "Epoch 1/5\n",
            "837/837 [==============================] - 731s 874ms/step - loss: 0.9607 - accuracy: 0.6664 - val_loss: 0.9438 - val_accuracy: 0.7053\n",
            "Epoch 2/5\n",
            "327/837 [==========>...................] - ETA: 6:38 - loss: 0.9473 - accuracy: 0.6899"
          ],
          "name": "stdout"
        }
      ]
    },
    {
      "cell_type": "markdown",
      "metadata": {
        "id": "mB_k0heeewlC",
        "colab_type": "text"
      },
      "source": [
        "### Fine-tune the Base Model"
      ]
    },
    {
      "cell_type": "code",
      "metadata": {
        "id": "50-HjZBcdwx8",
        "colab_type": "code",
        "colab": {}
      },
      "source": [
        "fine_tune = False\n",
        "\n",
        "if fine_tune:\n",
        "    unfreeze = False\n",
        "    for layer in base_model.layers:\n",
        "        if unfreeze:\n",
        "            layer.trainable = True\n",
        "        if layer.name == 'conv4_block6_out':\n",
        "            print ('Unfreezing last layers')\n",
        "            unfreeze = True\n",
        "\n",
        "    opt = tf.keras.optimizers.Adam(lr=0.00001)\n",
        "    model.compile(loss=triplet_loss, optimizer=opt, metrics=[accuracy])\n",
        "    history2 = model.fit(training_generator, validation_data=validation_generator, batch_size=64, epochs=1)"
      ],
      "execution_count": null,
      "outputs": []
    },
    {
      "cell_type": "markdown",
      "metadata": {
        "id": "spiQqrDQe2iG",
        "colab_type": "text"
      },
      "source": [
        "### Predict on Test Images"
      ]
    },
    {
      "cell_type": "code",
      "metadata": {
        "id": "xSjx3rdxW1jh",
        "colab_type": "code",
        "colab": {
          "base_uri": "https://localhost:8080/",
          "height": 34
        },
        "outputId": "4b0cb5e9-42e6-4a0b-9ede-a1bcd1394aa5"
      },
      "source": [
        "test_emb = model.predict(testing_generator, batch_size=64, verbose=1)"
      ],
      "execution_count": null,
      "outputs": [
        {
          "output_type": "stream",
          "text": [
            "931/931 [==============================] - 305s 327ms/step\n"
          ],
          "name": "stdout"
        }
      ]
    },
    {
      "cell_type": "code",
      "metadata": {
        "id": "Xyl_BYCGH7rY",
        "colab_type": "code",
        "colab": {}
      },
      "source": [
        "def emb2labels(y_pred, p=metric_p):\n",
        "    total_length = y_pred.shape[-1]\n",
        "    anchor = y_pred[:, 0:int(total_length*1/3)]\n",
        "    positive = y_pred[:, int(total_length*1/3):int(total_length*2/3)]\n",
        "    negative = y_pred[:, int(total_length*2/3):int(total_length*3/3)]\n",
        "    if p == 1 or p == 2:\n",
        "        pos_dist = np.linalg.norm((anchor - positive), ord=p, axis=1) \n",
        "        neg_dist = np.linalg.norm((anchor - negative), ord=p, axis=1)\n",
        "    else:\n",
        "        normalize_a = tf.math.l2_normalize(anchor, axis=1)\n",
        "        normalize_b = tf.math.l2_normalize(positive, axis=1)        \n",
        "        normalize_c = tf.math.l2_normalize(negative, axis=1)        \n",
        "        pos_dist = -tf.matmul(normalize_a, normalize_b, transpose_b=True)\n",
        "        neg_dist = -tf.matmul(normalize_a, normalize_c, transpose_b=True)\n",
        "    labels = (pos_dist < neg_dist).astype('int32')\n",
        "    return labels\n",
        "\n",
        "test_pred = emb2labels(test_emb)"
      ],
      "execution_count": null,
      "outputs": []
    },
    {
      "cell_type": "code",
      "metadata": {
        "id": "W56aQOBkb_nH",
        "colab_type": "code",
        "colab": {
          "base_uri": "https://localhost:8080/",
          "height": 204
        },
        "outputId": "db1e7fd3-9313-4243-8c51-8eae7a57f489"
      },
      "source": [
        "sub = pd.DataFrame(test_pred)\n",
        "assert sub.shape[0] == test.shape[0]\n",
        "\n",
        "sub.to_csv('sub_task4_overlap_e5.txt', header=False, index=False, sep=' ')\n",
        "sub.head()"
      ],
      "execution_count": null,
      "outputs": [
        {
          "output_type": "execute_result",
          "data": {
            "text/html": [
              "<div>\n",
              "<style scoped>\n",
              "    .dataframe tbody tr th:only-of-type {\n",
              "        vertical-align: middle;\n",
              "    }\n",
              "\n",
              "    .dataframe tbody tr th {\n",
              "        vertical-align: top;\n",
              "    }\n",
              "\n",
              "    .dataframe thead th {\n",
              "        text-align: right;\n",
              "    }\n",
              "</style>\n",
              "<table border=\"1\" class=\"dataframe\">\n",
              "  <thead>\n",
              "    <tr style=\"text-align: right;\">\n",
              "      <th></th>\n",
              "      <th>0</th>\n",
              "    </tr>\n",
              "  </thead>\n",
              "  <tbody>\n",
              "    <tr>\n",
              "      <th>0</th>\n",
              "      <td>0</td>\n",
              "    </tr>\n",
              "    <tr>\n",
              "      <th>1</th>\n",
              "      <td>0</td>\n",
              "    </tr>\n",
              "    <tr>\n",
              "      <th>2</th>\n",
              "      <td>0</td>\n",
              "    </tr>\n",
              "    <tr>\n",
              "      <th>3</th>\n",
              "      <td>0</td>\n",
              "    </tr>\n",
              "    <tr>\n",
              "      <th>4</th>\n",
              "      <td>1</td>\n",
              "    </tr>\n",
              "  </tbody>\n",
              "</table>\n",
              "</div>"
            ],
            "text/plain": [
              "   0\n",
              "0  0\n",
              "1  0\n",
              "2  0\n",
              "3  0\n",
              "4  1"
            ]
          },
          "metadata": {
            "tags": []
          },
          "execution_count": 13
        }
      ]
    },
    {
      "cell_type": "code",
      "metadata": {
        "id": "o3_cZrgcXv8J",
        "colab_type": "code",
        "colab": {
          "base_uri": "https://localhost:8080/",
          "height": 34
        },
        "outputId": "82f38f1b-e90e-44ea-8f0f-3212a4f46367"
      },
      "source": [
        "test.shape, len(test_pred)"
      ],
      "execution_count": null,
      "outputs": [
        {
          "output_type": "execute_result",
          "data": {
            "text/plain": [
              "((59544, 3), 59520)"
            ]
          },
          "metadata": {
            "tags": []
          },
          "execution_count": 25
        }
      ]
    },
    {
      "cell_type": "markdown",
      "metadata": {
        "id": "HWnhG16Je7EE",
        "colab_type": "text"
      },
      "source": [
        "### Plots"
      ]
    },
    {
      "cell_type": "code",
      "metadata": {
        "id": "5F-z3nFPc8Si",
        "colab_type": "code",
        "colab": {}
      },
      "source": [
        "plt.figure(figsize=(16, 5))\n",
        "\n",
        "plt.subplot(111)\n",
        "plt.plot(history.history['accuracy'], label='Loss')\n",
        "plt.title('Train Accuracy')\n",
        "plt.grid()\n",
        "\n",
        "plt.subplot(122)\n",
        "plt.plot(history.history['val_accuracy'], label='Loss')\n",
        "plt.title('Validation Accuracy')\n",
        "plt.grid()\n",
        "\n",
        "plt.show()"
      ],
      "execution_count": null,
      "outputs": []
    },
    {
      "cell_type": "code",
      "metadata": {
        "id": "m_mUVUMlcbOe",
        "colab_type": "code",
        "colab": {}
      },
      "source": [
        "from mpl_toolkits.axes_grid1 import ImageGrid\n",
        "\n",
        "fig = plt.figure(figsize=(16, 10*5))\n",
        "grid = ImageGrid(fig, 111, nrows_ncols=(10, 3), axes_pad=0.4)\n",
        "\n",
        "im = []\n",
        "for i in [1, 10, 2000, 6000, 10000, 15000, 20000, 25000, 40000, 50000]:\n",
        "    lab = test_preds.iloc[i][0]\n",
        "    if lab == 1:\n",
        "        text1 = 'Similar'\n",
        "        text2 = 'Not similar'\n",
        "    elif lab == 0:\n",
        "        text2 = 'Similar'\n",
        "        text1 = 'Not similar'\n",
        "    im.append((io.imread(img_dir+test.iloc[i]['img']+'.jpg'), 'Food'))\n",
        "    im.append((io.imread(img_dir+test.iloc[i]['img1']+'.jpg'), text1))\n",
        "    im.append((io.imread(img_dir+test.iloc[i]['img2']+'.jpg'), text2))\n",
        "\n",
        "for ax, im in zip(grid, im):\n",
        "    ax.imshow(im[0])\n",
        "    ax.set_title(im[1])\n",
        "plt.show()"
      ],
      "execution_count": null,
      "outputs": []
    }
  ]
}